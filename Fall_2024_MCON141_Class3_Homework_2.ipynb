{
  "cells": [
    {
      "cell_type": "markdown",
      "id": "cd91769c",
      "metadata": {
        "id": "cd91769c"
      },
      "source": [
        "\n",
        "# MCON 141 — Class 3 Homework\n",
        "\n",
        "Welcome! 🌟 This homework is designed to help you feel confident with **decision structures** and **boolean logic**.  \n",
        "You’ll use `if / elif / else`, nested `if` where helpful, and the operators `and`, `or`, and `not`.  \n",
        "We’re **not** using loops yet (`while`, `for`) — everything here can be done with straight‑line code.\n",
        "\n",
        "Additionally, although I am giving you this homework within Jupyter, feel free to work on this in an IDE such as IDLE or PyCharm, and submit the answers here.\n",
        "\n",
        "### How to approach this set\n",
        "- Work one problem at a time. Run your cell, read the output, and refine.\n",
        "- Be kind to yourself — it’s normal to try, run, and adjust as you go.\n",
        "- When taking user input, please **validate it** with `try/except` and use `raise ValueError` for out‑of‑range or invalid options.\n",
        "- Use f‑strings for friendly, clear messages (e.g., `print(f\"Final price: ${price:.2f}\")`).\n",
        "\n",
        "If you get stuck, read the **gentle hints** included after many prompts. You’ve got this! 💪\n"
      ]
    },
    {
      "cell_type": "markdown",
      "id": "6af8aabf",
      "metadata": {
        "id": "6af8aabf"
      },
      "source": [
        "\n",
        "**Validation rules (for all problems)**  \n",
        "- If a numeric input is not a number → handle with `except ValueError`.\n",
        "- If a numeric input is outside the allowed range → `raise ValueError(\"...\")` and handle it.\n",
        "- If a text input isn’t one of the allowed choices (e.g., `y/n`, or `mon..sun`) → `raise ValueError(\"expected ...\")` and handle it.\n",
        "- Normalize text inputs with `.strip().lower()`.\n"
      ]
    },
    {
      "cell_type": "markdown",
      "id": "ba273b62",
      "metadata": {
        "id": "ba273b62"
      },
      "source": [
        "\n",
        "## 1) Free shipping gate\n",
        "\n",
        "**Prompt**  \n",
        "Ask for **order_total** (float) and **membership** (`\"y\"` / `\"n\"`).  \n",
        "Free shipping rules:  \n",
        "- Free if `order_total >= 60` **or** membership is `\"y\"` **and** `order_total >= 40`.  \n",
        "- Otherwise, no free shipping.\n",
        "\n",
        "**Your task**  \n",
        "- Validate inputs (see rules above).  \n",
        "- Print exactly `\"Free shipping\"` or `\"No free shipping\"`.  \n",
        "\n",
        "*Gentle hint:* It can help to create a boolean like `is_member = (membership == \"y\")` before your `if`.\n"
      ]
    },
    {
      "cell_type": "code",
      "execution_count": null,
      "id": "d9d440a9",
      "metadata": {
        "colab": {
          "base_uri": "https://localhost:8080/"
        },
        "id": "d9d440a9",
        "outputId": "66a0ab70-60b7-422e-875f-1e20bbcbd7e0"
      },
      "outputs": [
        {
          "output_type": "stream",
          "name": "stdout",
          "text": [
            "what is your order total?60\n",
            "are you a member? (y/n)n\n",
            "Free shipping\n"
          ]
        }
      ],
      "source": [
        "# YOUR CODE HERE\n",
        "# 1) Read inputs (order_total, membership) with validation.\n",
        "# 2) Decide based on the rule; print the exact message.\n",
        "try:\n",
        "    order_total_str = input(\"what is your order total?\")\n",
        "    order_total = float(order_total_str)\n",
        "    membership = input(\"are you a member? (y/n)\").strip().lower()\n",
        "\n",
        "    if membership not in [\"y\", \"n\"]:\n",
        "        raise ValueError(\"Invalid input for membership. Please enter 'y' or 'n'.\")\n",
        "\n",
        "    if order_total < 0:\n",
        "        raise ValueError(\"Order total cannot be negative.\")\n",
        "\n",
        "    if order_total >= 60 or (membership == \"y\" and order_total >= 40):\n",
        "        print(\"Free shipping\")\n",
        "    else:\n",
        "        print(\"No free shipping\")\n",
        "\n",
        "except ValueError as e:\n",
        "    print(f\"Invalid input: {e}\")"
      ]
    },
    {
      "cell_type": "markdown",
      "id": "2b6be3c3",
      "metadata": {
        "id": "2b6be3c3"
      },
      "source": [
        "\n",
        "## 2) Triangle validity & type\n",
        "\n",
        "**Prompt**  \n",
        "Ask for three side lengths **a**, **b**, **c** (floats).  \n",
        "- First, validate that all are **> 0**.  \n",
        "- Then check triangle inequality: `a + b > c`, `a + c > b`, `b + c > a`.  \n",
        "  - If invalid → print `\"Not a triangle\"` and stop.  \n",
        "- If valid, print **exactly one** of: `\"Equilateral\"`, `\"Isosceles\"`, `\"Scalene\"`.\n",
        "\n",
        "**Your task**  \n",
        "- Validate numeric conversion and positivity.  \n",
        "- Implement the checks carefully and choose exactly one type to print.\n",
        "\n",
        "*Gentle hint:* Check validity first; only classify if valid.\n",
        "\n",
        "**Support for triangles **\n",
        "\n",
        "A triangle is Equilateral if All three sides are equal:\n",
        "a == b == c\n",
        "\n",
        "Isosceles : Exactly two sides are equal:\n",
        "(a == b or a == c or b == c) but not all three equal\n",
        "\n",
        "Scalene : All three sides are different:\n",
        "a != b and a != c and b != c\n",
        "\n",
        "\n"
      ]
    },
    {
      "cell_type": "code",
      "execution_count": null,
      "id": "61ea08e9",
      "metadata": {
        "colab": {
          "base_uri": "https://localhost:8080/"
        },
        "id": "61ea08e9",
        "outputId": "548ba2b1-d117-4e7a-c7e6-f058f3caa7a4"
      },
      "outputs": [
        {
          "output_type": "stream",
          "name": "stdout",
          "text": [
            "Enter the length of side a: h\n",
            "Invalid input\n"
          ]
        }
      ],
      "source": [
        "\n",
        "# YOUR CODE HERE\n",
        "# 1) Inputs a, b, c with validation\n",
        "# 2) If invalid -> print(\"Not a triangle\")\n",
        "# 3) Else -> choose exactly one triangle type\n",
        "try:\n",
        "    a = float(input(\"Enter the length of side a: \"))\n",
        "    b = float(input(\"Enter the length of side b: \"))\n",
        "    c = float(input(\"Enter the length of side c: \"))\n",
        "    if a <= 0 or b <= 0 or c <= 0:\n",
        "        raise ValueError(\"Side lengths must be greater than zero.\")\n",
        "\n",
        "    if a + b <= c or a + c <= b or b + c <= a:\n",
        "        print(\"Not a triangle\")\n",
        "\n",
        "    elif a == b == c:\n",
        "        print(\"Equilateral\")\n",
        "    elif a == b or a == c or b == c:\n",
        "        print(\"Isosceles\")\n",
        "    else:\n",
        "        print(\"Scalene\")\n",
        "except ValueError:\n",
        "    print(\"Invalid input\")"
      ]
    },
    {
      "cell_type": "markdown",
      "id": "38d6cf49",
      "metadata": {
        "id": "38d6cf49"
      },
      "source": [
        "\n",
        "## 3) Library access hours with membership override\n",
        "\n",
        "**Prompt**  \n",
        "Ask for **hour** (int, 0–23) and **member** (`\"y\"`/`\"n\"`).  \n",
        "- Open to **everyone** from 9–20 inclusive.  \n",
        "- Open to **members only** at hours 7–8 and 21–22.  \n",
        "- Otherwise, **Closed**.\n",
        "\n",
        "**Your task**  \n",
        "- Validate inputs.  \n",
        "- Print **exactly one** of: `\"Open to all\"`, `\"Open to members\"`, `\"Closed\"`.\n",
        "\n",
        "*Gentle hint:* Think of this as a small decision tree. Check the “open to all” window first.\n"
      ]
    },
    {
      "cell_type": "code",
      "execution_count": null,
      "id": "ea753771",
      "metadata": {
        "colab": {
          "base_uri": "https://localhost:8080/"
        },
        "id": "ea753771",
        "outputId": "5aa12aeb-ca68-4e6d-c45f-2546760617bc"
      },
      "outputs": [
        {
          "output_type": "stream",
          "name": "stdout",
          "text": [
            "Enter the hour (0-23): 7\n",
            "Are you a member? (y/n)n\n",
            "Closed\n"
          ]
        }
      ],
      "source": [
        "\n",
        "# YOUR CODE HERE\n",
        "# 1) Validate hour and member\n",
        "# 2) Decide and print one of the three messages\n",
        "try:\n",
        "    hour = int(input(\"Enter the hour (0-23): \"))\n",
        "    member = input(\"Are you a member? (y/n)\").strip().lower()\n",
        "    if hour < 0 or hour > 23:\n",
        "        raise ValueError(\"Invalid hour. Please enter a value between 0 and 23.\")\n",
        "\n",
        "    if member not in [\"y\", \"n\"]:\n",
        "        raise ValueError(\"Invalid input for membership. Please enter 'y' or 'n'.\")\n",
        "    elif 9 <= hour <= 20:\n",
        "        print(\"Open to all\")\n",
        "    elif (hour == 7 or hour == 8) and member == \"y\":\n",
        "        print(\"Open to members\")\n",
        "    else:\n",
        "        print(\"Closed\")\n",
        "except ValueError:\n",
        "    print(\"Invalid input\")\n"
      ]
    },
    {
      "cell_type": "markdown",
      "id": "bbd08bb4",
      "metadata": {
        "id": "bbd08bb4"
      },
      "source": [
        "\n",
        "## 4) Temperature banding\n",
        "\n",
        "**Prompt**  \n",
        "Ask for **temp** (int) and categorize into exactly one label:  \n",
        "- `temp <= 0` → `\"Freezing\"`  \n",
        "- `1–15` → `\"Cold\"`  \n",
        "- `16–25` → `\"Mild\"`  \n",
        "- `26–32` → `\"Warm\"`  \n",
        "- `>= 33` → `\"Hot\"`\n",
        "\n",
        "**Your task**  \n",
        "- Validate integer input.  \n",
        "- Make sure **only one** label is printed.\n",
        "\n",
        "*Gentle hint:* Use `elif` to avoid overlapping outputs.\n"
      ]
    },
    {
      "cell_type": "code",
      "execution_count": null,
      "id": "5986f534",
      "metadata": {
        "colab": {
          "base_uri": "https://localhost:8080/"
        },
        "id": "5986f534",
        "outputId": "6d3da303-6462-443d-f731-a8a609d817af"
      },
      "outputs": [
        {
          "output_type": "stream",
          "name": "stdout",
          "text": [
            "What is the temperature?25\n",
            "Mild\n"
          ]
        }
      ],
      "source": [
        "\n",
        "# YOUR CODE HERE\n",
        "# 1) Validate temp (int)\n",
        "# 2) Choose exactly one label to print\n",
        "try:\n",
        "  temp= int(input(\"What is the temperature?\"))\n",
        "  if temp<= 0:\n",
        "    print(\"Freezing\")\n",
        "  elif 1<= temp <= 15:\n",
        "    print(\"Cold\")\n",
        "  elif 16<= temp <= 25:\n",
        "    print(\"Mild\")\n",
        "  elif 26<= temp <= 32:\n",
        "    print(\"Warm\")\n",
        "  elif temp >= 33:\n",
        "    print(\"Hot\")\n",
        "except ValueError:\n",
        "  print(\"Invalid input\")\n"
      ]
    },
    {
      "cell_type": "markdown",
      "id": "904b40ac",
      "metadata": {
        "id": "904b40ac"
      },
      "source": [
        "\n",
        "## 5) Street parking rules\n",
        "\n",
        "**Prompt**  \n",
        "Ask for **day** (`\"mon\"...\"sun\"`), **hour** (0–23), and **holiday** (`\"y\"/\"n\"`).  \n",
        "- **No parking** on weekdays during rush hours: 7–10 and 16–19, **unless** it is a holiday.  \n",
        "- Parking is allowed at all other times (including weekends).\n",
        "\n",
        "**Your task**  \n",
        "- Validate inputs.  \n",
        "- Print exactly `\"Parking allowed\"` **or** `\"No parking\"`.\n",
        "\n",
        "*Gentle hint:* Consider booleans like `is_weekday = day in {...}` and `rush = (7 <= hour <= 10) or (16 <= hour <= 19)`.\n"
      ]
    },
    {
      "cell_type": "code",
      "execution_count": null,
      "id": "ccbba117",
      "metadata": {
        "colab": {
          "base_uri": "https://localhost:8080/"
        },
        "id": "ccbba117",
        "outputId": "cdba66d8-d8bf-40f8-b9a3-2fb931f8c326"
      },
      "outputs": [
        {
          "output_type": "stream",
          "name": "stdout",
          "text": [
            "What day is it?wed\n",
            "What hour is it(0-23)?16\n",
            "Is it a holiday? (y/n)y\n",
            "Parking allowed\n"
          ]
        }
      ],
      "source": [
        "\n",
        "# YOUR CODE HERE\n",
        "# 1) Validate day/hour/holiday\n",
        "# 2) Decide and print the exact message\n",
        "try:\n",
        "  day = input(\"What day is it?\").strip().lower()\n",
        "  hour = int(input(\"What hour is it(0-23)?\"))\n",
        "  holiday = input(\"Is it a holiday? (y/n)\").strip().lower()\n",
        "  if day not in [\"mon\", \"tue\", \"wed\", \"thu\", \"fri\", \"sat\", \"sun\"]:\n",
        "    raise ValueError(\"Invalid day. Please enter a valid day of the week.\")\n",
        "  if hour < 0 or hour > 23:\n",
        "    raise ValueError(\"Invalid hour. Please enter a value between 0 and 23.\")\n",
        "  if holiday not in [\"y\", \"n\"]:\n",
        "    raise ValueError(\"Invalid input for holiday. Please enter 'y' or 'n'.\")\n",
        "  if day in [\"sat\", \"sun\"]:\n",
        "    print(\"Parking allowed\")\n",
        "  if day in [\"mon\", \"tue\", \"wed\", \"thu\", \"fri\"]:\n",
        "    if (7 <= hour <= 10) or (16 <= hour <= 19):\n",
        "      if holiday == \"y\":\n",
        "        print(\"Parking allowed\")\n",
        "  if day in [\"mon\", \"tue\", \"wed\", \"thu\", \"fri\"]:\n",
        "    if not ((7 <= hour <= 10) or (16 <= hour <= 19)):\n",
        "      print(\"Parking allowed\")\n",
        "except ValueError as e:\n",
        "  print(f\"{e}\")\n"
      ]
    },
    {
      "cell_type": "markdown",
      "id": "5dc3c3fa",
      "metadata": {
        "id": "5dc3c3fa"
      },
      "source": [
        "\n",
        "## 6) Grade with curve boundaries\n",
        "\n",
        "**Prompt**  \n",
        "Ask for **raw** (float, 0–100) and **curve** (int, can be negative).  \n",
        "- Compute `final = raw + curve`.  \n",
        "- Clamp to [0, 100].  \n",
        "- Print a single letter:\n",
        "  - `>= 90`: `\"A\"`\n",
        "  - `80–89`: `\"B\"`\n",
        "  - `70–79`: `\"C\"`\n",
        "  - `60–69`: `\"D\"`\n",
        "  - else: `\"F\"`\n",
        "\n",
        "**Your task**  \n",
        "- Validate inputs; clamp carefully; print one letter.\n",
        "\n",
        "*Gentle hint:* After adding, use small checks like `if final < 0: final = 0`.\n"
      ]
    },
    {
      "cell_type": "code",
      "execution_count": null,
      "id": "0598e54f",
      "metadata": {
        "colab": {
          "base_uri": "https://localhost:8080/"
        },
        "id": "0598e54f",
        "outputId": "89df9823-271f-4a21-aaba-4b0d5507c3b8"
      },
      "outputs": [
        {
          "output_type": "stream",
          "name": "stdout",
          "text": [
            "What is your raw grade(0-100)?70\n",
            "What is your curve?26\n",
            "A\n"
          ]
        }
      ],
      "source": [
        "\n",
        "# YOUR CODE HERE\n",
        "# 1) Validate raw/curve\n",
        "# 2) Clamp 0..100\n",
        "# 3) Print one letter\n",
        "try:\n",
        "  raw = float(input(\"What is your raw grade(0-100)?\"))\n",
        "  curve = int(input(\"What is your curve?\"))\n",
        "  final = raw + curve\n",
        "  if final < 0:\n",
        "    final = 0\n",
        "  elif final > 100:\n",
        "    final = 100\n",
        "  if final >= 90:\n",
        "    print(\"A\")\n",
        "  elif 80 <= final <= 89:\n",
        "    print(\"B\")\n",
        "  elif 70 <= final <= 79:\n",
        "    print(\"C\")\n",
        "  elif 60 <= final <= 69:\n",
        "    print(\"D\")\n",
        "  else:\n",
        "    print(\"F\")\n",
        "except ValueError:\n",
        "  print(\"Invalid input\")"
      ]
    },
    {
      "cell_type": "markdown",
      "id": "87c88705",
      "metadata": {
        "id": "87c88705"
      },
      "source": [
        "\n",
        "## 7) Palindrome (straight‑line, no loops)\n",
        "\n",
        "**Prompt**  \n",
        "Ask for **text** (string). Normalize by stripping outer spaces and lowercasing.  \n",
        "If the text reads the same forwards and backwards, print `\"Palindrome\"`; otherwise, print `\"Not palindrome\"`.\n",
        "\n",
        "**Your task**  \n",
        "- No loops needed; slicing is okay (`[::-1]`).  \n",
        "- Keep messages exact.\n",
        "\n",
        "*Gentle hint:* Compare the normalized string to its reversed version.\n",
        "\n",
        "** Support **\n",
        "A palindrome check can be done with just string basics:\n",
        "\n",
        "- .strip() → remove spaces at the edges\n",
        "\n",
        "- .lower() → normalize case\n",
        "\n",
        "- [::-1] → reverses the string\n",
        "- example of string reversal :  my_str == \"cat\" then my_str[::-1] == \"tac\"\n",
        "- my_str_reveresed = my_str[::-1]\n"
      ]
    },
    {
      "cell_type": "code",
      "execution_count": 10,
      "id": "f3a3d82a",
      "metadata": {
        "id": "f3a3d82a",
        "colab": {
          "base_uri": "https://localhost:8080/"
        },
        "outputId": "6252f409-275c-46b1-92ef-b0e3343571e3"
      },
      "outputs": [
        {
          "output_type": "stream",
          "name": "stdout",
          "text": [
            "What is your text?tacocat\n",
            "Palindrome\n"
          ]
        }
      ],
      "source": [
        "# YOUR CODE HERE\n",
        "# 1) Read and normalize text\n",
        "# 2) Compare to reversed and print the message\n",
        "try:\n",
        "  my_str= input(\"What is your text?\").strip().lower()\n",
        "  my_str_reversed = my_str[::-1]\n",
        "  if my_str == my_str_reversed:\n",
        "    print(\"Palindrome\")\n",
        "  else:\n",
        "    print(\"Not palindrome\")\n",
        "except ValueError as e:\n",
        "  print(f\"Invalid input: {e}\")"
      ]
    },
    {
      "cell_type": "markdown",
      "id": "2953a6f6",
      "metadata": {
        "id": "2953a6f6"
      },
      "source": [
        "\n",
        "## 8) Function practice — `is_palindrome(text) -> bool\n",
        "\n",
        "You’ll write a **small** helper function, then use it.  \n",
        "It’s okay if functions are new — follow the scaffold and you’ll be fine!\n",
        "\n",
        "**Steps**\n",
        "1. Implement `is_palindrome(text)` that returns `True` if `text.strip().lower()` equals its reversed version, else `False`.\n",
        "2. Then, outside the function, prompt the user and print `\"Palindrome\"` or `\"Not palindrome\"` based on the function’s result.\n",
        "\n",
        "*Gentle hint:* Start by writing the function body with a placeholder `return False`, then improve it.\n"
      ]
    },
    {
      "cell_type": "code",
      "execution_count": 11,
      "id": "b9986d4a",
      "metadata": {
        "id": "b9986d4a",
        "colab": {
          "base_uri": "https://localhost:8080/"
        },
        "outputId": "7f349320-e968-415b-84bf-4a0c54ee5556"
      },
      "outputs": [
        {
          "output_type": "stream",
          "name": "stdout",
          "text": [
            "What is your text?doctor\n",
            "Not palindrome\n"
          ]
        }
      ],
      "source": [
        "\n",
        "def is_palindrome(text):\n",
        "    \"\"\"Return True if text is a palindrome after strip+lower, else False.\"\"\"\n",
        "    # TODO: normalize text (strip + lower)\n",
        "    # TODO: compare with reversed (slicing is ok)\n",
        "    # TODO: return True/False\n",
        "    if text.strip().lower() == text[::-1].strip().lower():\n",
        "      return True\n",
        "    else:\n",
        "      return False\n",
        "\n",
        "# YOUR CODE HERE\n",
        "# 1) Prompt for input\n",
        "# 2) Call is_palindrome and print the correct message\n",
        "try:\n",
        "  text = input(\"What is your text?\").strip().lower()\n",
        "  if is_palindrome(text):\n",
        "    print(\"Palindrome\")\n",
        "  else:\n",
        "    print(\"Not palindrome\")\n",
        "except ValueError:\n",
        "  print(\"Invalid input. Please enter text\")\n"
      ]
    },
    {
      "cell_type": "markdown",
      "id": "8e72d89c",
      "metadata": {
        "id": "8e72d89c"
      },
      "source": [
        "\n",
        "## 9) Function practice — `parking_allowed(day, hour, holiday) -> bool`\n",
        "\n",
        "Let’s package the parking policy into a small function and then use it.\n",
        "\n",
        "**Policy reminder**  \n",
        "- **No parking** on weekdays during 7–10 and 16–19, **unless** it is a holiday.  \n",
        "- Parking is allowed at all other times (including weekends).\n",
        "\n",
        "**Steps**\n",
        "1. Implement `parking_allowed(day, hour, holiday)` so it returns `True` when parking is allowed, `False` otherwise.\n",
        "2. Then prompt for inputs, **validate them**, and print `\"Parking allowed\"` or `\"No parking\"`.\n",
        "\n",
        "*Gentle hint:* Booleans like `is_weekday` and `rush` make your `if` very readable.\n"
      ]
    },
    {
      "cell_type": "code",
      "execution_count": 15,
      "id": "11240051",
      "metadata": {
        "id": "11240051",
        "colab": {
          "base_uri": "https://localhost:8080/"
        },
        "outputId": "5e6e99de-2bbb-4528-ce42-ca9bb33178e8"
      },
      "outputs": [
        {
          "output_type": "stream",
          "name": "stdout",
          "text": [
            "What day is it?tue\n",
            "What hour is it(0-23)?9\n",
            "Is it a holiday? (y/n)n\n",
            "No parking\n"
          ]
        }
      ],
      "source": [
        "\n",
        "def parking_allowed(day, hour, holiday):\n",
        "    \"\"\"Return True if parking is allowed under the policy; else False.\n",
        "    day: 'mon'..'sun', hour: 0..23, holiday: 'y' or 'n'\n",
        "    \"\"\"\n",
        "    # TODO: implement using and/or/not\n",
        "    is_weekday = day in [\"mon\", \"tue\", \"wed\", \"thu\", \"fri\"]\n",
        "    rush = (7 <= hour <= 10) or (16 <= hour <= 19)\n",
        "    if is_weekday and rush and holiday == \"n\":\n",
        "      return False\n",
        "    else:\n",
        "      return True\n",
        "\n",
        "\n",
        "# YOUR CODE HERE\n",
        "# 1) Prompt and validate inputs\n",
        "# 2) Call parking_allowed and print the exact message\n",
        "try:\n",
        "  day = input(\"What day is it?\").strip().lower()\n",
        "  hour = int(input(\"What hour is it(0-23)?\"))\n",
        "  holiday = input(\"Is it a holiday? (y/n)\").strip().lower()\n",
        "  if parking_allowed(day, hour, holiday):\n",
        "    print(\"Parking allowed\")\n",
        "  else:\n",
        "    print(\"No parking\")\n",
        "except ValueError:\n",
        "  print(\"Invalid input\")\n"
      ]
    },
    {
      "cell_type": "markdown",
      "id": "8a8cef39",
      "metadata": {
        "id": "8a8cef39"
      },
      "source": [
        "\n",
        "## 10) Mini‑Project (No Loops): Cinema Entry & Pricing Decision Engine\n",
        "\n",
        "This is a friendly, single‑run decision engine — no loops needed. You’ll determine **entry permission** and a **final ticket price** based on the rules.\n",
        "\n",
        "**Inputs to gather and validate (in this order)**  \n",
        "1. **age** (int, 0–120)  \n",
        "2. **day** (`mon, tue, wed, thu, fri, sat, sun`)  \n",
        "3. **hour** (int 0–23) — cinema is open to **everyone** 10–22 inclusive; **members only** at 9 and 23  \n",
        "4. **holiday** (`y/n`)  \n",
        "5. **member** (`y/n`)  \n",
        "6. **student** (`y/n`)  \n",
        "7. **base_price** (float ≥ 0)  \n",
        "8. **coupon10** (`y/n`)  \n",
        "9. **coupon15** (`y/n`)\n",
        "\n",
        "**Access Policy**  \n",
        "- If holiday → `\"Entry allowed\"` any time.  \n",
        "- Otherwise:  \n",
        "  - 10–22 → `\"Entry allowed\"`  \n",
        "  - 9 or 23 → `\"Entry allowed (members only hours)\"` **if** member is `\"y\"`; otherwise `\"Closed\"`  \n",
        "  - All other hours → `\"Closed\"`  \n",
        "If closed, print the access message and stop.\n",
        "\n",
        "**Discounts (apply at most one in this order)**  \n",
        "1) If both coupons are `\"y\"` → print `\"Invalid: cannot stack\"` and **do not use any coupon** (you may still use age/student/member rule below).  \n",
        "2) Else if `coupon15 == \"y\"` and `base_price >= 80` → 15% off.  \n",
        "3) Else if `coupon10 == \"y\"` and `base_price >= 50` → 10% off.  \n",
        "4) Else if age < 12 or age >= 65 → 20% off.  \n",
        "5) Else if student == \"y\" or member == \"y\" → 10% off.  \n",
        "6) Else → no discount.\n",
        "\n",
        "**Output**  \n",
        "- Print the entry result first. If allowed, print a **pricing summary** (base, discount applied, final) with two decimals using f‑strings.\n",
        "\n",
        "*Gentle hints*  \n",
        "- Create helpful booleans like `is_holiday`, `is_member`, etc.  \n",
        "- Use `f\"{price:.2f}\"` for two decimal places.  \n",
        "- Take your time, and test a few scenarios to see each branch work.\n"
      ]
    },
    {
      "cell_type": "code",
      "execution_count": 19,
      "id": "b51d7e1b",
      "metadata": {
        "id": "b51d7e1b",
        "colab": {
          "base_uri": "https://localhost:8080/"
        },
        "outputId": "db72330c-fbfe-4ec7-f189-ac724f27aebe"
      },
      "outputs": [
        {
          "output_type": "stream",
          "name": "stdout",
          "text": [
            "What is your age?73\n",
            "What day is it?mon\n",
            "What hour is it(0-23)?15\n",
            "Is it a holiday? (y/n)n\n",
            "Are you a member? (y/n)y\n",
            "Are you a student? (y/n)y\n",
            "What is the base price?50\n",
            "Do you have coupon10? (y/n)n\n",
            "Do you have coupon15? (y/n)y\n",
            "Entry allowed\n",
            "Base price: $50.00\n",
            "Discount applied: Age discount (20%)\n",
            "Final price: $40.00\n"
          ]
        }
      ],
      "source": [
        "# YOUR CODE HERE\n",
        "# 1) Gather and validate inputs (try/except + raise ValueError for issues)\n",
        "# 2) Decide entry\n",
        "# 3) If allowed, apply the discount rules in the given order (at most one discount category)\n",
        "# 4) Print a clear summary with two-decimal formatting\n",
        "\n",
        "try:\n",
        "  age = int(input(\"What is your age?\"))\n",
        "  day = input(\"What day is it?\").strip().lower()\n",
        "  hour = int(input(\"What hour is it(0-23)?\"))\n",
        "  holiday = input(\"Is it a holiday? (y/n)\").strip().lower()\n",
        "  member = input(\"Are you a member? (y/n)\").strip().lower()\n",
        "  student = input(\"Are you a student? (y/n)\").strip().lower()\n",
        "  base_price = float(input(\"What is the base price?\"))\n",
        "  coupon10 = input(\"Do you have coupon10? (y/n)\").strip().lower()\n",
        "  coupon15 = input(\"Do you have coupon15? (y/n)\").strip().lower()\n",
        "  if age < 0 or age > 120:\n",
        "    raise ValueError(\"Invalid age. Please enter a value between 0 and 120.\")\n",
        "  if day not in [\"mon\", \"tue\", \"wed\", \"thu\", \"fri\", \"sat\", \"sun\"]:\n",
        "    raise ValueError(\"Invalid day. Please enter a valid day of the week.\")\n",
        "  if hour < 0 or hour > 23:\n",
        "    raise ValueError(\"Invalid hour. Please enter a value between 0 and 23.\")\n",
        "  if holiday not in [\"y\", \"n\"]:\n",
        "    raise ValueError(\"Invalid input for holiday. Please enter 'y' or 'n'.\")\n",
        "  if member not in [\"y\", \"n\"]:\n",
        "    raise ValueError(\"Invalid input for member. Please enter 'y' or 'n'.\")\n",
        "  if student not in [\"y\", \"n\"]:\n",
        "    raise ValueError(\"Invalid input for student. Please enter 'y' or 'n'.\")\n",
        "  if base_price < 0:\n",
        "    raise ValueError(\"Invalid base price. Please enter a non-negative value.\")\n",
        "  if coupon10 not in [\"y\", \"n\"]:\n",
        "    raise ValueError(\"Invalid input for coupon10. Please enter 'y' or 'n'.\")\n",
        "  if coupon15 not in [\"y\", \"n\"]:\n",
        "    raise ValueError(\"Invalid input for coupon15. Please enter 'y' or 'n'.\")\n",
        "\n",
        "  # Access Policy\n",
        "  if holiday == \"y\":\n",
        "    print(\"Entry allowed\")\n",
        "  elif 10 <= hour <= 22:\n",
        "    print(\"Entry allowed\")\n",
        "  elif hour == 9 or hour == 23:\n",
        "    if member == \"y\":\n",
        "      print(\"Entry allowed (members only hours)\")\n",
        "    else:\n",
        "      print(\"Closed\")\n",
        "      exit() # Stop execution if closed\n",
        "  else:\n",
        "    print(\"Closed\")\n",
        "    exit() # Stop execution if closed\n",
        "\n",
        "  # Discounts\n",
        "  discount_applied = \"None\"\n",
        "  final_price = base_price\n",
        "\n",
        "  if coupon10 == \"y\" and coupon15 == \"y\":\n",
        "    print(\"Invalid: cannot stack\")\n",
        "  elif coupon15 == \"y\" and base_price >= 80:\n",
        "    final_price = base_price * 0.85\n",
        "    discount_applied = \"15% coupon\"\n",
        "  elif coupon10 == \"y\" and base_price >= 50:\n",
        "    final_price = base_price * 0.9\n",
        "    discount_applied = \"10% coupon\"\n",
        "  elif age < 12 or age >= 65:\n",
        "    final_price = base_price * 0.8\n",
        "    discount_applied = \"Age discount (20%)\"\n",
        "  elif student == \"y\" or member == \"y\":\n",
        "    final_price = base_price * 0.9\n",
        "    discount_applied = \"Student/Member discount (10%)\"\n",
        "  else:\n",
        "    discount_applied = \"No discount\"\n",
        "\n",
        "  print(f\"Base price: ${base_price:.2f}\")\n",
        "  print(f\"Discount applied: {discount_applied}\")\n",
        "  print(f\"Final price: ${final_price:.2f}\")\n",
        "\n",
        "except ValueError as e:\n",
        "  print(f\"Invalid input: {e}\")"
      ]
    },
    {
      "cell_type": "markdown",
      "id": "ca529e29",
      "metadata": {
        "id": "ca529e29"
      },
      "source": [
        "\n",
        "---\n",
        "\n",
        "### You’re doing great 💫\n",
        "Remember: learning conditionals is about clear thinking and small steps.  \n",
        "Celebrate each little win, and don’t hesitate to re-run cells as you refine your code.\n"
      ]
    }
  ],
  "metadata": {
    "kernelspec": {
      "display_name": "Python 3",
      "language": "python",
      "name": "python3"
    },
    "language_info": {
      "name": "python",
      "version": "3.x"
    },
    "colab": {
      "provenance": []
    }
  },
  "nbformat": 4,
  "nbformat_minor": 5
}